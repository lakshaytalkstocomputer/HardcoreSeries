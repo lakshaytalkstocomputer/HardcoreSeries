{
 "cells": [
  {
   "cell_type": "markdown",
   "metadata": {},
   "source": [
    "## Problem 1"
   ]
  },
  {
   "cell_type": "code",
   "execution_count": 40,
   "metadata": {},
   "outputs": [],
   "source": [
    "import os\n",
    "import sys\n",
    "import random\n",
    "import re\n",
    "import math\n",
    "from typing import List\n",
    "import numpy as np"
   ]
  },
  {
   "cell_type": "code",
   "execution_count": 74,
   "metadata": {},
   "outputs": [],
   "source": [
    "# ['input00.txt', 'input01.txt', 'input08.txt']\n",
    "INPUT_PATH =  \"HackerRank/Array/2d-array-testcases/input/input00.txt\"\n",
    "OUTPUT_PATH =  \"HackerRank/Array/2d-array-testcases/output/output00.txt\"\n"
   ]
  },
  {
   "cell_type": "code",
   "execution_count": 85,
   "metadata": {},
   "outputs": [],
   "source": [
    "# Read file\n",
    "input_arr = []\n",
    "ouptut = int()\n",
    "with  open(INPUT_PATH, 'r+') as fptr:\n",
    "    \n",
    "    while True:\n",
    "        line = list(map(int, fptr.readline().rstrip().split()))\n",
    "        if len(line) is 0:\n",
    "            break\n",
    "        input_arr.append(line)\n",
    "\n",
    "with open(OUTPUT_PATH, 'r+') as fptr:\n",
    "    output = int(fptr.readline().rstrip())\n",
    "    \n",
    "         \n"
   ]
  },
  {
   "cell_type": "code",
   "execution_count": 100,
   "metadata": {},
   "outputs": [],
   "source": [
    "def hourglassSum(arr : List) -> int:\n",
    "    arr = np.asarray(arr)\n",
    "    hourglass_sum = []\n",
    "    hourglass = [[1,1,1],\n",
    "                 [0,1,0],\n",
    "                 [1,1,1]]\n",
    "    leng = len(arr[0])\n",
    "    for i in range(leng):\n",
    "        if i+3 > leng:\n",
    "            break\n",
    "        for j in range(leng):\n",
    "            if j+3 > leng:\n",
    "                break\n",
    "            subarray = arr[i:i+3, j:j+3]\n",
    "            h_sum  = np.multiply(subarray,hourglass).sum()\n",
    "            hourglass_sum.append(h_sum)\n",
    "    \n",
    "    return max(hourglass_sum)\n",
    "\n",
    "    "
   ]
  },
  {
   "cell_type": "code",
   "execution_count": 101,
   "metadata": {},
   "outputs": [],
   "source": [
    "assert hourglassSum(input_arr)==output, \"Wrong\""
   ]
  },
  {
   "cell_type": "code",
   "execution_count": 160,
   "metadata": {},
   "outputs": [],
   "source": [
    "def pprint(arr):\n",
    "    print()\n",
    "    for i in arr:\n",
    "        print(i)\n",
    "    print()"
   ]
  },
  {
   "cell_type": "code",
   "execution_count": 208,
   "metadata": {},
   "outputs": [],
   "source": [
    "# without numpy\n",
    "def hourglassSum2(arr : List) -> int:\n",
    "    hourglass = [1,1,1,0,1,0,1,1,1]\n",
    "    h_glass_sum = []\n",
    "    \n",
    "    leng = len(arr[0])\n",
    "    for i in range(leng):\n",
    "        if i+3>leng:\n",
    "            break\n",
    "        sub_arr = arr[i:i+3]\n",
    "        for j in range(leng):\n",
    "            sub_sub_arr = []\n",
    "            if j+3 > leng:\n",
    "                break\n",
    "            sub_sub_arr = [a[j:j+3] for a in sub_arr]\n",
    "            sub_sub_arr = [ c for b in sub_sub_arr for c in b]\n",
    "            mult = [ a * b for a, b in zip(hourglass,sub_sub_arr)]\n",
    "            \n",
    "            h_glass_sum.append(sum(mult))\n",
    "    return max(h_glass_sum)"
   ]
  },
  {
   "cell_type": "code",
   "execution_count": 209,
   "metadata": {},
   "outputs": [
    {
     "name": "stdout",
     "output_type": "stream",
     "text": [
      "\n",
      "[1, 1, 1, 0, 0, 0]\n",
      "[0, 1, 0, 0, 0, 0]\n",
      "[1, 1, 1, 0, 0, 0]\n",
      "[0, 0, 2, 4, 4, 0]\n",
      "[0, 0, 0, 2, 0, 0]\n",
      "[0, 0, 1, 2, 4, 0]\n",
      "\n"
     ]
    },
    {
     "data": {
      "text/plain": [
       "19"
      ]
     },
     "execution_count": 209,
     "metadata": {},
     "output_type": "execute_result"
    }
   ],
   "source": [
    "hourglassSum2(input_arr)"
   ]
  },
  {
   "cell_type": "code",
   "execution_count": null,
   "metadata": {},
   "outputs": [],
   "source": []
  },
  {
   "cell_type": "code",
   "execution_count": null,
   "metadata": {},
   "outputs": [],
   "source": []
  }
 ],
 "metadata": {
  "kernelspec": {
   "display_name": "Python 3",
   "language": "python",
   "name": "python3"
  },
  "language_info": {
   "codemirror_mode": {
    "name": "ipython",
    "version": 3
   },
   "file_extension": ".py",
   "mimetype": "text/x-python",
   "name": "python",
   "nbconvert_exporter": "python",
   "pygments_lexer": "ipython3",
   "version": "3.6.9"
  }
 },
 "nbformat": 4,
 "nbformat_minor": 4
}
