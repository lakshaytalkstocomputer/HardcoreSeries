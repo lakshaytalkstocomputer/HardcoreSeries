{
 "cells": [
  {
   "cell_type": "code",
   "execution_count": 9,
   "metadata": {},
   "outputs": [],
   "source": [
    "import typing "
   ]
  },
  {
   "cell_type": "code",
   "execution_count": 10,
   "metadata": {},
   "outputs": [],
   "source": [
    "import string\n",
    "import random"
   ]
  },
  {
   "cell_type": "code",
   "execution_count": null,
   "metadata": {},
   "outputs": [],
   "source": [
    "GOAL = \"methinks it is like a weasel\""
   ]
  },
  {
   "cell_type": "code",
   "execution_count": 19,
   "metadata": {},
   "outputs": [],
   "source": [
    "def generate_string(length: int) -> str:\n",
    "    return \"\".join(random.choices(string.ascii_lowercase+string.whitespace, k=length))"
   ]
  },
  {
   "cell_type": "code",
   "execution_count": 20,
   "metadata": {},
   "outputs": [],
   "source": [
    "def score_string(gen_str: str) -> int:\n",
    "    \"\"\"\n",
    "    This function takes in generated string and return \n",
    "    the percentage of characters that are same from GOAL.\n",
    "        1. Find number of elements that are different.\n",
    "        2. Divide it by 27 (length of generated string)\n",
    "    \"\"\"\n",
    "    list_gen = list(gen_str)\n",
    "    list_goal = list(GOAL)\n",
    "    \n",
    "    count_diff_char = 0\n",
    "    for i in range(len(GOAL)):\n",
    "        if list_gen[i] == list_goal[i]:\n",
    "            count_diff_char += 1\n",
    "    \n",
    "    return count_diff_char "
   ]
  },
  {
   "cell_type": "code",
   "execution_count": null,
   "metadata": {},
   "outputs": [],
   "source": [
    "# TESTING FUNCTION SCORE_STRING()\n",
    "assert score_string()\n",
    "\n"
   ]
  },
  {
   "cell_type": "code",
   "execution_count": null,
   "metadata": {},
   "outputs": [],
   "source": []
  }
 ],
 "metadata": {
  "kernelspec": {
   "display_name": "Python 3",
   "language": "python",
   "name": "python3"
  },
  "language_info": {
   "codemirror_mode": {
    "name": "ipython",
    "version": 3
   },
   "file_extension": ".py",
   "mimetype": "text/x-python",
   "name": "python",
   "nbconvert_exporter": "python",
   "pygments_lexer": "ipython3",
   "version": "3.6.9"
  }
 },
 "nbformat": 4,
 "nbformat_minor": 4
}
