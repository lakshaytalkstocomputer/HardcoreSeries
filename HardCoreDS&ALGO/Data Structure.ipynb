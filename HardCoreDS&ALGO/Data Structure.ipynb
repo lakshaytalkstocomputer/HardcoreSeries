{
 "cells": [
  {
   "cell_type": "markdown",
   "metadata": {},
   "source": [
    "# Data Structures"
   ]
  },
  {
   "cell_type": "markdown",
   "metadata": {},
   "source": [
    "# Resources"
   ]
  },
  {
   "cell_type": "markdown",
   "metadata": {},
   "source": [
    "## TASK FOR WEEK 1:  (DUE SUNDAY 5 - MARCH-2020)\n",
    "<input type=\"checkbox\"> 1. Read about Arrays.\n",
    "\n",
    "<input type=\"checkbox\"> 2. Implement them in C.\n",
    "\n",
    "<input type=\"checkbox\"> 3. Implement then in Java.\n",
    "\n",
    "<input type=\"checkbox\"> 4. Use the implementation in Python and Notice the speed difference.\n",
    "\n",
    "<input type=\"checkbox\"> 5. Solve Hacker Rank Problems."
   ]
  },
  {
   "cell_type": "markdown",
   "metadata": {},
   "source": [
    "Data Structures are used to store data in systemic anner so that it becomes easy to store, fetch, and query the data on disk.\n",
    "\n"
   ]
  },
  {
   "cell_type": "markdown",
   "metadata": {},
   "source": [
    "### 1. Arrays \n",
    "These are of two types:\n",
    "1. Static Arrays\n",
    "2. Dynamic Arrays\n"
   ]
  },
  {
   "cell_type": "markdown",
   "metadata": {},
   "source": [
    "### Static Arrays: \n",
    "A static array is a fixed length container containing n length **indexable** from range [0, n-1].\n",
    "*  Indexable mean that each slot/inde in the array can be refrenced with a number.\n",
    "*  The chunks of memory in an array is contiguous in memory i.e all the elements lie within next to each other and there is no hole in between them.\n",
    "\n",
    "### Usage of  Static Arrays\n",
    "*  Storing and accessing sequential data.\n",
    "*  Temporarily storing objects.\n",
    "*  Used by IO routines as buffers.\n",
    "   \n",
    "   Suppose we have very large file we need to process but that file is very big that we need cannot process it in one single time. So we need to break that file in chunks and store it in what we call buffers and then process it.\n",
    "*  Lookup tables and inverse lookup tables.\n",
    "*  Can be used to return mutiple values from a function.\n",
    "*  Used in dynamic programming to cache answers to subproblems.\n",
    "\n",
    "In Fact, they are used by almost all the programs.\n",
    "\n",
    "### Complexity\n",
    "    Access     -  O(1)\n",
    "    Search     -  O(n)\n",
    "    Insertion  -  N/A\n",
    "    Appending  -  N/A\n",
    "    Deletion   -  N/A\n",
    "\n",
    "N/A as in it does not make sense to delete or apeend or insert in static array as they have fixed length.\n",
    "\n",
    "But if we say that element is deleted rendering the space null then it would be O(1) same for others. Since we can access the place in O(1) by index.\n",
    "\n",
    "### Eample of Static Array\n",
    "         ___________________________________________\n",
    "    A =  | 44 | 12 | -5 | 17 | 6 | 0 | 3 | 9 | 100 |\n",
    "         -------------------------------------------\n",
    "           ^     ^    ^    ^    ^   ^   ^   ^    ^\n",
    "           |     |    |    |    |   |   |   |    |\n",
    "         -----------------------------------------------\n",
    "         | 0  |  1  | 2 |  3  | 4 | 5 | 6 | 7  | 8  |\n",
    "         -----------------------------------------------\n",
    "         \n",
    "Now If we access, A[9] then it would result in Index Error.        \n"
   ]
  },
  {
   "cell_type": "markdown",
   "metadata": {},
   "source": [
    "## Dynamic Arrays\n",
    "*  Works just like Static arrays, It's just that you can add elements and delete them without any problem.\n",
    "*  With dynamic arrays you don't have to worry about the size. You can keep adding the array.\n",
    "*  These are taught when teaching Amortized Analysis.\n",
    "\n",
    "## Links:\n",
    "*  [Dynamic Arrays - Wikipedia](https://en.wikipedia.org/wiki/Dynamic_array#Geometric_expansion_and_amortized_cost)\n",
    "*  [Amortized Analysis - Wikipedia](https://en.wikipedia.org/wiki/Amortized_analysis)\n",
    "*  [Python List vs Array](https://stackoverflow.com/questions/176011/python-list-vs-array-when-to-use)\n",
    "\n",
    "### How to Create Dyamic Arrays?\n",
    "    1. Create a Static Array of length 'n'.\n",
    "    2. Keep the note of number of elements entered in array. Let this be 'k'.\n",
    "    3. If k == n then,\n",
    "          -  Create a new static array of length 2 * n\n",
    "          -  Copy the elements of first static array to new array\n",
    "          -  Delete the previous array."
   ]
  },
  {
   "cell_type": "code",
   "execution_count": 3,
   "metadata": {},
   "outputs": [],
   "source": [
    "### Testing Classes in Python\n",
    "class M(object):\n",
    "    def public(self):\n",
    "        print(\"Use Tab to see me\")\n",
    "    def _private(self):\n",
    "        print(\"You won't be able to Tab me\")\n",
    "    \n",
    "        "
   ]
  },
  {
   "cell_type": "code",
   "execution_count": 4,
   "metadata": {},
   "outputs": [
    {
     "name": "stdout",
     "output_type": "stream",
     "text": [
      "Use Tab to see me\n",
      "You won't be able to Tab me\n"
     ]
    }
   ],
   "source": [
    "m = M()\n",
    "m.public()\n",
    "m._private()"
   ]
  },
  {
   "cell_type": "code",
   "execution_count": null,
   "metadata": {},
   "outputs": [],
   "source": []
  }
 ],
 "metadata": {
  "kernelspec": {
   "display_name": "Python 3",
   "language": "python",
   "name": "python3"
  },
  "language_info": {
   "codemirror_mode": {
    "name": "ipython",
    "version": 3
   },
   "file_extension": ".py",
   "mimetype": "text/x-python",
   "name": "python",
   "nbconvert_exporter": "python",
   "pygments_lexer": "ipython3",
   "version": "3.6.9"
  }
 },
 "nbformat": 4,
 "nbformat_minor": 4
}
